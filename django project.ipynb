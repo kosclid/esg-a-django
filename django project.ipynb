{
 "cells": [
  {
   "cell_type": "code",
   "execution_count": 5,
   "id": "4c286370",
   "metadata": {},
   "outputs": [],
   "source": [
    "import os\n",
    "import django\n",
    "\n",
    "os.environ.setdefault(\"DJANGO_SETTINGS_MODULE\", \"do_it_django_prj.settings\")\n",
    "os.environ[\"DJANGO_ALLOW_ASYNC_UNSAFE\"] = \"true\"\n",
    "\n",
    "django.setup()"
   ]
  },
  {
   "cell_type": "code",
   "execution_count": 6,
   "id": "56a9438a",
   "metadata": {},
   "outputs": [],
   "source": [
    "from diary.models import Memory"
   ]
  },
  {
   "cell_type": "code",
   "execution_count": 7,
   "id": "b1d13f3b",
   "metadata": {},
   "outputs": [
    {
     "data": {
      "text/plain": [
       "<QuerySet [<Memory: [1] : 다이어리>, <Memory: [2] : asdf>, <Memory: [5] : ddd>, <Memory: [7] : asdf>]>"
      ]
     },
     "execution_count": 7,
     "metadata": {},
     "output_type": "execute_result"
    }
   ],
   "source": [
    "Memory.objects.all()"
   ]
  },
  {
   "cell_type": "code",
   "execution_count": 24,
   "id": "46515bc0",
   "metadata": {},
   "outputs": [
    {
     "data": {
      "text/plain": [
       "<Memory: [111] : title#1>"
      ]
     },
     "execution_count": 24,
     "metadata": {},
     "output_type": "execute_result"
    }
   ],
   "source": [
    "# 데이터베이스에 즉시 저장\n",
    "Memory.objects.create(title='title#1', message='content#1')"
   ]
  },
  {
   "cell_type": "code",
   "execution_count": 14,
   "id": "2fa4c935",
   "metadata": {},
   "outputs": [],
   "source": [
    "memory = Memory()\n",
    "memory.title = 'title#2'\n",
    "memory.message = 'content#2'\n",
    "memory.save()  # save 호출시점에 저장"
   ]
  },
  {
   "cell_type": "code",
   "execution_count": 15,
   "id": "130c58f6",
   "metadata": {},
   "outputs": [
    {
     "data": {
      "text/plain": [
       "<Memory: [1] : 다이어리>"
      ]
     },
     "execution_count": 15,
     "metadata": {},
     "output_type": "execute_result"
    }
   ],
   "source": [
    "memory = Memory.objects.get(pk=1)  # 지정조건, 즉시 조회\n",
    "memory"
   ]
  },
  {
   "cell_type": "code",
   "execution_count": 25,
   "id": "21233045",
   "metadata": {},
   "outputs": [
    {
     "data": {
      "text/plain": [
       "100"
      ]
     },
     "execution_count": 25,
     "metadata": {},
     "output_type": "execute_result"
    }
   ],
   "source": [
    "# bulk create\n",
    "memory_list = []\n",
    "for i in range(100):\n",
    "    title = f'new title #{i}'\n",
    "    message = f\"new content#{i}\"\n",
    "    memory = Memory(title = title, message = message)\n",
    "    # memory.save # 반복문 성능을 위해 매번 save안함\n",
    "    memory_list.append(memory)\n",
    "len(memory_list)"
   ]
  },
  {
   "cell_type": "code",
   "execution_count": 26,
   "id": "89db145a",
   "metadata": {},
   "outputs": [
    {
     "data": {
      "text/plain": [
       "[<Memory: [112] : new title #0>,\n",
       " <Memory: [113] : new title #1>,\n",
       " <Memory: [114] : new title #2>,\n",
       " <Memory: [115] : new title #3>,\n",
       " <Memory: [116] : new title #4>,\n",
       " <Memory: [117] : new title #5>,\n",
       " <Memory: [118] : new title #6>,\n",
       " <Memory: [119] : new title #7>,\n",
       " <Memory: [120] : new title #8>,\n",
       " <Memory: [121] : new title #9>,\n",
       " <Memory: [122] : new title #10>,\n",
       " <Memory: [123] : new title #11>,\n",
       " <Memory: [124] : new title #12>,\n",
       " <Memory: [125] : new title #13>,\n",
       " <Memory: [126] : new title #14>,\n",
       " <Memory: [127] : new title #15>,\n",
       " <Memory: [128] : new title #16>,\n",
       " <Memory: [129] : new title #17>,\n",
       " <Memory: [130] : new title #18>,\n",
       " <Memory: [131] : new title #19>,\n",
       " <Memory: [132] : new title #20>,\n",
       " <Memory: [133] : new title #21>,\n",
       " <Memory: [134] : new title #22>,\n",
       " <Memory: [135] : new title #23>,\n",
       " <Memory: [136] : new title #24>,\n",
       " <Memory: [137] : new title #25>,\n",
       " <Memory: [138] : new title #26>,\n",
       " <Memory: [139] : new title #27>,\n",
       " <Memory: [140] : new title #28>,\n",
       " <Memory: [141] : new title #29>,\n",
       " <Memory: [142] : new title #30>,\n",
       " <Memory: [143] : new title #31>,\n",
       " <Memory: [144] : new title #32>,\n",
       " <Memory: [145] : new title #33>,\n",
       " <Memory: [146] : new title #34>,\n",
       " <Memory: [147] : new title #35>,\n",
       " <Memory: [148] : new title #36>,\n",
       " <Memory: [149] : new title #37>,\n",
       " <Memory: [150] : new title #38>,\n",
       " <Memory: [151] : new title #39>,\n",
       " <Memory: [152] : new title #40>,\n",
       " <Memory: [153] : new title #41>,\n",
       " <Memory: [154] : new title #42>,\n",
       " <Memory: [155] : new title #43>,\n",
       " <Memory: [156] : new title #44>,\n",
       " <Memory: [157] : new title #45>,\n",
       " <Memory: [158] : new title #46>,\n",
       " <Memory: [159] : new title #47>,\n",
       " <Memory: [160] : new title #48>,\n",
       " <Memory: [161] : new title #49>,\n",
       " <Memory: [162] : new title #50>,\n",
       " <Memory: [163] : new title #51>,\n",
       " <Memory: [164] : new title #52>,\n",
       " <Memory: [165] : new title #53>,\n",
       " <Memory: [166] : new title #54>,\n",
       " <Memory: [167] : new title #55>,\n",
       " <Memory: [168] : new title #56>,\n",
       " <Memory: [169] : new title #57>,\n",
       " <Memory: [170] : new title #58>,\n",
       " <Memory: [171] : new title #59>,\n",
       " <Memory: [172] : new title #60>,\n",
       " <Memory: [173] : new title #61>,\n",
       " <Memory: [174] : new title #62>,\n",
       " <Memory: [175] : new title #63>,\n",
       " <Memory: [176] : new title #64>,\n",
       " <Memory: [177] : new title #65>,\n",
       " <Memory: [178] : new title #66>,\n",
       " <Memory: [179] : new title #67>,\n",
       " <Memory: [180] : new title #68>,\n",
       " <Memory: [181] : new title #69>,\n",
       " <Memory: [182] : new title #70>,\n",
       " <Memory: [183] : new title #71>,\n",
       " <Memory: [184] : new title #72>,\n",
       " <Memory: [185] : new title #73>,\n",
       " <Memory: [186] : new title #74>,\n",
       " <Memory: [187] : new title #75>,\n",
       " <Memory: [188] : new title #76>,\n",
       " <Memory: [189] : new title #77>,\n",
       " <Memory: [190] : new title #78>,\n",
       " <Memory: [191] : new title #79>,\n",
       " <Memory: [192] : new title #80>,\n",
       " <Memory: [193] : new title #81>,\n",
       " <Memory: [194] : new title #82>,\n",
       " <Memory: [195] : new title #83>,\n",
       " <Memory: [196] : new title #84>,\n",
       " <Memory: [197] : new title #85>,\n",
       " <Memory: [198] : new title #86>,\n",
       " <Memory: [199] : new title #87>,\n",
       " <Memory: [200] : new title #88>,\n",
       " <Memory: [201] : new title #89>,\n",
       " <Memory: [202] : new title #90>,\n",
       " <Memory: [203] : new title #91>,\n",
       " <Memory: [204] : new title #92>,\n",
       " <Memory: [205] : new title #93>,\n",
       " <Memory: [206] : new title #94>,\n",
       " <Memory: [207] : new title #95>,\n",
       " <Memory: [208] : new title #96>,\n",
       " <Memory: [209] : new title #97>,\n",
       " <Memory: [210] : new title #98>,\n",
       " <Memory: [211] : new title #99>]"
      ]
     },
     "execution_count": 26,
     "metadata": {},
     "output_type": "execute_result"
    }
   ],
   "source": [
    "Memory.objects.bulk_create(memory_list)"
   ]
  },
  {
   "cell_type": "code",
   "execution_count": 27,
   "id": "9bdd0690",
   "metadata": {
    "scrolled": true
   },
   "outputs": [
    {
     "data": {
      "text/plain": [
       "208"
      ]
     },
     "execution_count": 27,
     "metadata": {},
     "output_type": "execute_result"
    }
   ],
   "source": [
    "Memory.objects.all().count()"
   ]
  },
  {
   "cell_type": "code",
   "execution_count": 21,
   "id": "221c068d",
   "metadata": {},
   "outputs": [
    {
     "name": "stdout",
     "output_type": "stream",
     "text": [
      "20\n"
     ]
    }
   ],
   "source": [
    "qs = Memory.objects.filter(title__icontains='1')\n",
    "print(qs.count())"
   ]
  },
  {
   "cell_type": "code",
   "execution_count": 22,
   "id": "4d0a048a",
   "metadata": {},
   "outputs": [
    {
     "name": "stdout",
     "output_type": "stream",
     "text": [
      "9 title#1\n",
      "12 new title #1\n",
      "21 new title #10\n",
      "22 new title #11\n",
      "23 new title #12\n",
      "24 new title #13\n",
      "25 new title #14\n",
      "26 new title #15\n",
      "27 new title #16\n",
      "28 new title #17\n",
      "29 new title #18\n",
      "30 new title #19\n",
      "32 new title #21\n",
      "42 new title #31\n",
      "52 new title #41\n",
      "62 new title #51\n",
      "72 new title #61\n",
      "82 new title #71\n",
      "92 new title #81\n",
      "102 new title #91\n"
     ]
    }
   ],
   "source": [
    "for memory in qs:\n",
    "    print(memory.pk, memory.title)"
   ]
  },
  {
   "cell_type": "code",
   "execution_count": null,
   "id": "6a19c63d",
   "metadata": {},
   "outputs": [],
   "source": []
  }
 ],
 "metadata": {
  "kernelspec": {
   "display_name": "Python 3 (ipykernel)",
   "language": "python",
   "name": "python3"
  },
  "language_info": {
   "codemirror_mode": {
    "name": "ipython",
    "version": 3
   },
   "file_extension": ".py",
   "mimetype": "text/x-python",
   "name": "python",
   "nbconvert_exporter": "python",
   "pygments_lexer": "ipython3",
   "version": "3.10.8"
  }
 },
 "nbformat": 4,
 "nbformat_minor": 5
}
